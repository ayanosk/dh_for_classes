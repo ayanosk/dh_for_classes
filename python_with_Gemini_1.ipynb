{
  "nbformat": 4,
  "nbformat_minor": 0,
  "metadata": {
    "colab": {
      "provenance": []
    },
    "kernelspec": {
      "name": "python3",
      "display_name": "Python 3"
    },
    "language_info": {
      "name": "python"
    }
  },
  "cells": [
    {
      "cell_type": "markdown",
      "source": [
        "# Pythonと生成AI"
      ],
      "metadata": {
        "id": "zi37ib83E3NW"
      }
    },
    {
      "cell_type": "markdown",
      "source": [
        "この授業では、これからPythonというプログラミング言語について学習していきます。Pythonは現在世界で最も人気のある汎用プログラミング言語のひとつです。しかし、Pythonは外国語と同じくひとつの言語であり、使いこなすためには相応の時間と努力が必要です。人文学を学ぶ皆さんがPythonの学習に時間をかけるかどうかは、Pythonでできることにどれだけ魅力を感じることができるかで判断すべきでしょう。"
      ],
      "metadata": {
        "id": "AD8Ew4hY1gh9"
      }
    },
    {
      "cell_type": "markdown",
      "source": [
        "幸いにも、2023年以降、chatGPTをはじめとする生成AIが広く社会に浸透し、気軽に使えるようになりました。Pythonを高度な分析や仕事で使いこなしたい人は基礎から勉強する必要がありますが、そうでない人は、Pythonをゼロから学ぶより、生成AIをうまく利用できる方法を知る方が有意義です。これから3回の授業では、生成AIとともにPythonを学んでいくことにしましょう。"
      ],
      "metadata": {
        "id": "DMS0aRFE2TxB"
      }
    },
    {
      "cell_type": "markdown",
      "source": [
        "注）Google Colabの生成AI機能は期間限定での無料公開です。2025年以降は有料でしか使えなくなる可能性もありますので、ご注意ください。なお、有料化の後は他の生成AIで作成したコードを貼り付けるようにすれば無料で使い続けられます。"
      ],
      "metadata": {
        "id": "Z-oeZT4r48Fx"
      }
    },
    {
      "cell_type": "markdown",
      "source": [
        "## Google Colabの生成AI機能を利用してPythonコードを作成する基本的な方法"
      ],
      "metadata": {
        "id": "l41O235D3f3B"
      }
    },
    {
      "cell_type": "markdown",
      "source": [
        "まずはじめに、基本的な使い方について練習してみましょう。Google Colabのコードブロックには、\n",
        "\n",
        "> []　　コーディングを開始するか、AIで生成します。\n",
        "\n",
        "と書いてあるはずです。もしコードブロックが出ていないのなら、左上の「ファイル」の下に「+コード」という文字があるはずです。そこをクリックすれば、新たなコードブロックが出現します。コードブロックが出現したら、「生成」の文字（下線が引いてある）をクリックしてみましょう。\n"
      ],
      "metadata": {
        "id": "Mu2h3LcL3tOS"
      }
    },
    {
      "cell_type": "code",
      "source": [],
      "metadata": {
        "id": "dBvl1b1s3nYJ"
      },
      "execution_count": null,
      "outputs": []
    },
    {
      "cell_type": "markdown",
      "source": [
        "そうすると入力画面が変化して、文字を入力する画面が出てくるはずです。入力欄には、例えばこのような文字が入っています。\n",
        "\n",
        "> print hello world using rot13\n",
        "\n",
        "ここに自分の作りたいコードについての情報を入れれば、作り始めることができます。"
      ],
      "metadata": {
        "id": "xFuAYNXz4kHt"
      }
    },
    {
      "cell_type": "markdown",
      "source": [
        "# 1. 組み込み関数"
      ],
      "metadata": {
        "id": "ZoEVPl7sEuqa"
      }
    },
    {
      "cell_type": "markdown",
      "source": [
        "### 【問題1-1】\"Hello world!\"という文字を表示してください。\n",
        "\n",
        "（下のコードブロックに自分なりのプロンプト（命令文）を入力してみましょう）"
      ],
      "metadata": {
        "id": "VsoUUFiT57bD"
      }
    },
    {
      "cell_type": "code",
      "source": [],
      "metadata": {
        "id": "4-sOs2Lx7cDV"
      },
      "execution_count": null,
      "outputs": []
    },
    {
      "cell_type": "markdown",
      "source": [
        "おそらく、\n",
        "\n",
        "> \\# primpt: （あなたが入力した文字列）\n",
        "\n",
        "> print(\"Hello world!\")\n",
        "\n",
        "という2行で表示されたのではないでしょうか。\n",
        "\n",
        "Pythonでは、ある文字列を表示するのにprint()という関数を使っています。print()のように、特にこちら側で定義しなくても使える関数のことを「組み込み関数」と言います。これに対して、自分で定義したオリジナルの関数を作ることもできます。このオリジナル関数については後ほど学習することにして、まずは基本的な組み込み関数について学んでいきましょう。\n",
        "\n",
        "\n",
        "\n",
        "\n"
      ],
      "metadata": {
        "id": "PyqABg8z6ZWM"
      }
    },
    {
      "cell_type": "markdown",
      "source": [
        "### 【問題1-2】 \"jdoisfhoaishuogkfjsgakdsgfkal\"この文字列が何文字かを数えてください。"
      ],
      "metadata": {
        "id": "s7zTOMFg7rRQ"
      }
    },
    {
      "cell_type": "code",
      "source": [],
      "metadata": {
        "id": "eB0ODh1_Nn6t"
      },
      "execution_count": null,
      "outputs": []
    },
    {
      "cell_type": "markdown",
      "source": [
        "今度は複数の回答が提示されたかもしれません。しかし処理している内容は同じで、ここでは**len()**という関数が使われているはずです。これは文字列の長さ（文字数）を数えるのに使える組み込み関数です。\n",
        "\n",
        "なお、データ型さえ合っていれば文字と数字が混じっていても問題ありません。"
      ],
      "metadata": {
        "id": "Xq_vH6Co8Ewd"
      }
    },
    {
      "cell_type": "markdown",
      "source": [
        "### 【問題1-3】1276487628715827548の桁数を数えてください。"
      ],
      "metadata": {
        "id": "heHkGlJR8rP_"
      }
    },
    {
      "cell_type": "code",
      "source": [],
      "metadata": {
        "id": "erc1Wz37Nrel"
      },
      "execution_count": null,
      "outputs": []
    },
    {
      "cell_type": "markdown",
      "source": [
        "桁数を数える方法はいくつかありますが、あまり数学が得意でないのなら文字型に変換して文字として数えるのが一番簡単です（得意なら、log10関数を使う方法もありますので調べてみてください）。4段階に分けて解説します。\n",
        "\n",
        "1. 最初に数字を変数に格納します。これは処理をわかりやすくするためです。"
      ],
      "metadata": {
        "id": "rv0KSa_uLBlE"
      }
    },
    {
      "cell_type": "code",
      "source": [
        "num = 1276487628715827548\n",
        "print(num)"
      ],
      "metadata": {
        "id": "g5Wgn7ZeNEYx"
      },
      "execution_count": null,
      "outputs": []
    },
    {
      "cell_type": "markdown",
      "source": [
        "2. numは現在int型なので、str型に変換しましょう。データ型を確かめるには、type()関数を使います。"
      ],
      "metadata": {
        "id": "zPWnHYiLNBsA"
      }
    },
    {
      "cell_type": "code",
      "source": [
        "type(num)"
      ],
      "metadata": {
        "id": "s5utYFqGMv4Z"
      },
      "execution_count": null,
      "outputs": []
    },
    {
      "cell_type": "code",
      "source": [
        "type(str(num))"
      ],
      "metadata": {
        "id": "IOGESjTYNNWn"
      },
      "execution_count": null,
      "outputs": []
    },
    {
      "cell_type": "markdown",
      "source": [
        "3. 問題1-2と同じく、len()関数を使って桁数（＝文字数）を数えます。"
      ],
      "metadata": {
        "id": "DPK5SDH_NP-6"
      }
    },
    {
      "cell_type": "code",
      "source": [
        "len(str(num))"
      ],
      "metadata": {
        "id": "F597NCkCN0r8"
      },
      "execution_count": null,
      "outputs": []
    },
    {
      "cell_type": "markdown",
      "source": [
        "4. この結果を出力します。"
      ],
      "metadata": {
        "id": "ih1dWdnaN4tc"
      }
    },
    {
      "cell_type": "code",
      "source": [
        "print(len(str(num)))"
      ],
      "metadata": {
        "id": "BZoahTqrN7kS"
      },
      "execution_count": null,
      "outputs": []
    },
    {
      "cell_type": "markdown",
      "source": [
        "ここで、生成AIが作ってくれた「変数」に注目してみましょう。方程式のようになっているはずです。\n",
        "\n",
        "> string = \"jdoisfhoaishuogkfjsgakdsgfkal\"\n",
        "\n",
        "> num = 1276487628715827548\n",
        "\n",
        "この左辺が「変数名」で、右辺がその変数に格納されている値です。\n",
        "\n",
        "\n",
        "\n"
      ],
      "metadata": {
        "id": "PMlo7IJx8vfG"
      }
    },
    {
      "cell_type": "markdown",
      "source": [
        "### 変数とは"
      ],
      "metadata": {
        "id": "O1PN-8El-kIJ"
      }
    },
    {
      "cell_type": "markdown",
      "source": [
        "データを保存するための名前つきの箱のようなもの。プログラムで使用するデータ（数値、文字列、リストなど）を格納（代入）し、後でそのデータを参照したり操作したりすることができます。\n",
        "\n",
        "変数名は自由につけることができますが、変数名を付ける際には以下のルールに従います。\n",
        "\n",
        "1. アルファベット（a-z、A-Z）またはアンダースコア（_）で始める\n",
        "\n",
        "```\n",
        "valid_variable = 5\n",
        "_another_valid_variable = 10\n",
        "```\n",
        "\n",
        "2. 数字（0-9）を含めることができるが、最初の文字にはできない\n",
        "\n",
        "\n",
        "\n",
        "```\n",
        "variable1 = \"Hello\"\n",
        "\n",
        "```\n",
        "\n",
        "\n",
        "\n",
        "\n",
        "3. 大文字と小文字を区別する\n",
        "\n",
        "```\n",
        "myVariable = 10\n",
        "myvariable = 20\n",
        "# これらは異なる変数として扱われる\n",
        "```\n",
        "\n",
        "\n",
        "\n",
        "4. 予約語（Pythonの構文で使われる単語）は使用できない\n",
        "\n",
        "```\n",
        "# 以下は予約語の例であり、変数名として使うことはできない\n",
        "# False, None, True, and, as, assert, break, class, continue,\n",
        "# def, del, elif, else, except, finally, for, from, global, if, import, in, is, # lambda, nonlocal, not, or, pass, raise, return, try, while, with, yield\n",
        "\n",
        "```\n",
        "\n"
      ],
      "metadata": {
        "id": "eIrJGH7z9lVT"
      }
    },
    {
      "cell_type": "markdown",
      "source": [
        "### データ型"
      ],
      "metadata": {
        "id": "1GUBlvR4-mk2"
      }
    },
    {
      "cell_type": "markdown",
      "source": [
        "生成AIが作った変数をもう一度見てみましょう。\n",
        "\n",
        "```\n",
        "string = \"jdoisfhoaishuogkfjsgakdsgfkal\"\n",
        "num = 1276487628715827548\n",
        "```\n",
        "アルファベットの文字には\"\"がつき、string（文字）という変数名が付けられています。数字の方には\"\"がなく、num（数値）という変数名が付けられています。\n",
        "\n",
        "Pythonにはデータ型という考え方があって、覚えておくべきは3つです。\n",
        "\n",
        "\n",
        "> str型：文字列\n",
        "\n",
        "> int型：整数\n",
        "\n",
        "> float型：浮動小数点数\n",
        "\n",
        "文字や記号はすべてstr型として処理されます。数字はint型かfloat型です。それぞれを混ぜて使うことはできません。文字と数字が混じる時には数字を含めてstr型で処理する必要があります。\n",
        "\n",
        "混ぜて使うことができない例を試してみましょう。\n"
      ],
      "metadata": {
        "id": "NZByPSZg-1S4"
      }
    },
    {
      "cell_type": "code",
      "source": [
        "print(\"私は\"+21+\"歳の大学生です\")"
      ],
      "metadata": {
        "id": "fsyMs8It9W7-"
      },
      "execution_count": null,
      "outputs": []
    },
    {
      "cell_type": "markdown",
      "source": [
        "下のコードを実行するとTypeErrorと呼ばれるエラーが出ます。このエラーの原因を\n",
        "\n",
        "> 次のステップ：エラーの説明\n",
        "\n",
        "という部分で解説してもらえるので、クリックしてみましょう。\n",
        "\n",
        "そうすると、英語でエラーの内容が説明されます。それで理解できるなら問題ありませんが、英語だとわからない人は下の入力欄に「日本語で解説して」「日本語で初学者にも分かるように詳しく解説して」などのプロンプトを入力すれば、生成AIは理解できるまで付き合ってくれます。\n",
        "\n"
      ],
      "metadata": {
        "id": "BfQ5JQuo_nT0"
      }
    },
    {
      "cell_type": "markdown",
      "source": [
        "エラーの理由が理解できた人は、先ほどの問題（以下に引用）を自力で修正してみましょう。\n",
        "\n",
        "```\n",
        "print(\"私は\"+21+\"歳の大学生です\")\n",
        "```\n",
        "\n"
      ],
      "metadata": {
        "id": "GNyi2myzBZmE"
      }
    },
    {
      "cell_type": "markdown",
      "source": [
        "下のブロックに自分なりの解答を入力して実行します。"
      ],
      "metadata": {
        "id": "gqOag3knCv_H"
      }
    },
    {
      "cell_type": "code",
      "source": [],
      "metadata": {
        "id": "GiN0vzK4BY6g"
      },
      "execution_count": null,
      "outputs": []
    },
    {
      "cell_type": "markdown",
      "source": [
        "#### 解答と解説"
      ],
      "metadata": {
        "id": "LFPHEMnqBse0"
      }
    },
    {
      "cell_type": "markdown",
      "source": [
        "解答：２１をstr型に変換する\n",
        "\n",
        "(1) \"\"をつける\n",
        "```\n",
        "print(\"私は\"+\"21\"+\"歳の大学生です\")\n",
        "# 別解\n",
        "print(\"私は21歳の大学生です\")\n",
        "```\n",
        "\n",
        "(2) str(21)にする\n",
        "\n",
        "\n",
        "\n",
        "> print(\"私は\"+21+\"歳の大学生です\")\n",
        "\n",
        "これがエラーを起こす原因は、文字列の中に21という数値が入っているためです。データ型を文字型に合わせるには、\"\"かstr()を使います。このstr()も組み込み関数の一種で、入力されたテキストを文字型に変換してくれます。\n"
      ],
      "metadata": {
        "id": "Y3xAUNpoBvhQ"
      }
    },
    {
      "cell_type": "code",
      "source": [],
      "metadata": {
        "id": "G5UkUMOuBu2h"
      },
      "execution_count": null,
      "outputs": []
    },
    {
      "cell_type": "markdown",
      "source": [
        "### 【問題1-4】自分の年齢を出力できる欄を出現させてみましょう。"
      ],
      "metadata": {
        "id": "dW8ij7J9C3tM"
      }
    },
    {
      "cell_type": "markdown",
      "source": [
        "「年齢を入力してください: 」という入力フォームに数字を入れたら「私は○○歳の大学生です」と出力するコードを作成してみましょう。"
      ],
      "metadata": {
        "id": "Q3RaejH4DZIr"
      }
    },
    {
      "cell_type": "code",
      "source": [],
      "metadata": {
        "id": "107oYlZEEL1I"
      },
      "execution_count": null,
      "outputs": []
    },
    {
      "cell_type": "markdown",
      "source": [
        "#### 解答"
      ],
      "metadata": {
        "id": "ME0-NpeqEOrQ"
      }
    },
    {
      "cell_type": "code",
      "source": [
        "age = input(\"年齢を入力してください: \")\n",
        "print(\"私は\"+str(age)+\"歳の大学生です\")"
      ],
      "metadata": {
        "id": "j_mTJJkvEPyr"
      },
      "execution_count": null,
      "outputs": []
    },
    {
      "cell_type": "markdown",
      "source": [
        "ageという変数に、入力した数字を代入するにはinput()という組み込み関数を使用します。\n",
        "\n",
        "ここに入力された数字は整数型である可能性が高いので、print()するときには文字型に変換しています。"
      ],
      "metadata": {
        "id": "vK7f721hERxg"
      }
    },
    {
      "cell_type": "markdown",
      "source": [
        "# 2. 繰り返し処理"
      ],
      "metadata": {
        "id": "ucmbKVALEl2a"
      }
    },
    {
      "cell_type": "markdown",
      "source": [
        "次に、プログラミングを使う醍醐味とも言える繰り返し処理を試してみましょう。"
      ],
      "metadata": {
        "id": "wfGXt3pvJCfW"
      }
    },
    {
      "cell_type": "markdown",
      "source": [
        "### 【問題2-1】１から20までの数字を順に表示してください。"
      ],
      "metadata": {
        "id": "y-HsWJgMJPN9"
      }
    },
    {
      "cell_type": "code",
      "source": [],
      "metadata": {
        "id": "EWja8_etL93A"
      },
      "execution_count": null,
      "outputs": []
    },
    {
      "cell_type": "markdown",
      "source": [
        "もし実行した結果、以下のような結果が出た人は0から出力されたことに疑問を感じるかもしれません。\n",
        "\n",
        "\n",
        "```\n",
        "# range(21)は、0から20までの数字を生成するイテレータです。\n",
        "for i in range(21):\n",
        "    print(i)\n",
        "```\n",
        "\n",
        "これには、組み込み関数の一種であるrange()関数の挙動を理解する必要があります。\n",
        "\n"
      ],
      "metadata": {
        "id": "aUYyeU1DJ7pu"
      }
    },
    {
      "cell_type": "markdown",
      "source": [
        "**range(start, stop) 関数**は、start から stop - 1 までの連続する整数を生成する関数です。\n",
        "\n",
        "→ range(1, 21) は、1から20までの数字を生成します。\n",
        "\n",
        "startを指定しない場合、rangeは0からstopで指定した値-1まで処理をします。"
      ],
      "metadata": {
        "id": "Zn6NUYrmKc6B"
      }
    },
    {
      "cell_type": "markdown",
      "source": [
        "これは**for文**と呼ばれる繰り返し処理です。\n",
        "\n",
        "> for i in range(1, 21):\n",
        "\n",
        "このループは、range(1, 21) で生成された各数字（1, 2, 3, ..., 20）に対して繰り返し処理を行います。\n",
        "変数名iにrange()関数で指定した数値が代入されて、コロン以下の処理を行います。\n",
        "\n",
        "\n",
        "\n",
        "```\n",
        "# for 変数名 in range(繰り返す数字の範囲):\n",
        "#     繰り返したい処理(iを使う)\n",
        "```\n",
        "for文で処理される内容が分かりやすくなるように、繰り返す処理はインデックスを下げて表示されます。\n",
        "\n",
        "例題で実行しているのは、print(i): 各ループの反復ごとに、変数 i の値をコンソールに出力する処理です。"
      ],
      "metadata": {
        "id": "N6RZ0949K3Mt"
      }
    },
    {
      "cell_type": "markdown",
      "source": [
        "#### 解答"
      ],
      "metadata": {
        "id": "N70kZeCWMDme"
      }
    },
    {
      "cell_type": "code",
      "source": [
        "# range(1, 21)は、1から20までの数字を生成するイテレータです。\n",
        "for i in range(1, 21):  # 1から20までの数字を順に生成\n",
        "    print(i)  # 生成された数字を表示"
      ],
      "metadata": {
        "id": "MOF02M-_KWll"
      },
      "execution_count": null,
      "outputs": []
    },
    {
      "cell_type": "markdown",
      "source": [
        "# 3. 復習と発展的な内容を扱うための練習問題 【応用】"
      ],
      "metadata": {
        "id": "GqwYJrX7MNe5"
      }
    },
    {
      "cell_type": "markdown",
      "source": [
        "以下、作業が早く終わった人用の練習問題を用意しました。\n",
        "\n",
        "AIに生成してもらって構いませんが、もしPythonを身に付けたいのであれば自力で書けるようになってほしい基礎レベルの問題です。なお、授業のレベルより高い部分には補足を付けています。\n",
        "\n",
        "解答・解説は各問題につけていますが、完全に一致しなくては不正解というわけではありません。\n",
        "\n",
        "出力結果を見て、ご自身の作ったプログラムが正解かどうかを判断します。\n",
        "\n",
        "正解の挙動は解答を実行してみればわかります。解答は**同じ出力になるかを確認**するために使うようにしてください。"
      ],
      "metadata": {
        "id": "5RK00Xk1IrZP"
      }
    },
    {
      "cell_type": "markdown",
      "source": [
        "### 【問題3-1】ユーザーに名前を入力させ、\"Hello, [名前]!\"と挨拶するプログラムを書いてください。"
      ],
      "metadata": {
        "id": "KsusxaCZMzps"
      }
    },
    {
      "cell_type": "code",
      "source": [],
      "metadata": {
        "id": "ajbwvMBGMvcb"
      },
      "execution_count": null,
      "outputs": []
    },
    {
      "cell_type": "markdown",
      "source": [
        "#### 解答と解説"
      ],
      "metadata": {
        "id": "H6pt3M1TM5VC"
      }
    },
    {
      "cell_type": "code",
      "source": [
        "name = input(\"あなたの名前は何ですか？ \")\n",
        "print(\"Hello, \" + name + \"!\")"
      ],
      "metadata": {
        "id": "zxMmZxtZM6lT"
      },
      "execution_count": null,
      "outputs": []
    },
    {
      "cell_type": "markdown",
      "source": [
        "input()関数でユーザーに名前を入力させ、その名前をname変数に保存します。次に、print()関数で\"Hello, \"とname変数を連結して表示します。"
      ],
      "metadata": {
        "id": "vz1ZYBIgEOmm"
      }
    },
    {
      "cell_type": "markdown",
      "source": [
        "### 【問題3-2】 1から10までの数字を順に表示するプログラムを書いてください。\n"
      ],
      "metadata": {
        "id": "IS5SU2xgETOq"
      }
    },
    {
      "cell_type": "code",
      "source": [],
      "metadata": {
        "id": "pu78ZI_REvb1"
      },
      "execution_count": null,
      "outputs": []
    },
    {
      "cell_type": "markdown",
      "source": [
        "#### 解答と解説"
      ],
      "metadata": {
        "id": "dGqyBXt_Evza"
      }
    },
    {
      "cell_type": "code",
      "source": [
        "for i in range(1, 11):\n",
        "    print(i)"
      ],
      "metadata": {
        "id": "8EndYQbaEPcs"
      },
      "execution_count": null,
      "outputs": []
    },
    {
      "cell_type": "markdown",
      "source": [
        "range(1, 11)で1から10までの数字を生成し、forループを使って各数字を順に表示します。"
      ],
      "metadata": {
        "id": "FUuIvmDMEZxg"
      }
    },
    {
      "cell_type": "code",
      "source": [],
      "metadata": {
        "id": "0O3Rjrf5EtU7"
      },
      "execution_count": null,
      "outputs": []
    },
    {
      "cell_type": "markdown",
      "source": [
        "### 【問題3-3】 ユーザーに年齢を入力させ、その年齢に1を加えて表示するプログラムを書いてください。"
      ],
      "metadata": {
        "id": "1USTD8dcEy6G"
      }
    },
    {
      "cell_type": "code",
      "source": [],
      "metadata": {
        "id": "RiFyM16rIF3H"
      },
      "execution_count": null,
      "outputs": []
    },
    {
      "cell_type": "markdown",
      "source": [
        "#### 解答と解説"
      ],
      "metadata": {
        "id": "53eIacdlIG0X"
      }
    },
    {
      "cell_type": "code",
      "source": [
        "age = int(input(\"あなたの年齢は何歳ですか？ \"))\n",
        "print(\"来年は \" + str(age + 1) + \" 歳です。\")"
      ],
      "metadata": {
        "id": "icsJGsXAE4Np"
      },
      "execution_count": null,
      "outputs": []
    },
    {
      "cell_type": "markdown",
      "source": [
        " input()でユーザーに年齢を入力させ、int()で整数に変換します。age + 1で1を加え、str()で文字列に変換して表示します。"
      ],
      "metadata": {
        "id": "Pt2gg9ktE7J1"
      }
    },
    {
      "cell_type": "markdown",
      "source": [
        "#### 【補足】 数値の計算"
      ],
      "metadata": {
        "id": "ruFNx_74FCJE"
      }
    },
    {
      "cell_type": "markdown",
      "source": [
        "str型は数字でも文字として扱いますが、int型、float型は計算できます。\n",
        "\n",
        "計算したい時には、まずint型で計算をした後、str型に変換しましょう。"
      ],
      "metadata": {
        "id": "jSucDM6kFMyc"
      }
    },
    {
      "cell_type": "markdown",
      "source": [
        "### 【問題3-4】 1から50までの偶数を表示するプログラムを書いてください。"
      ],
      "metadata": {
        "id": "SJJ176K2Fh-z"
      }
    },
    {
      "cell_type": "code",
      "source": [],
      "metadata": {
        "id": "KO__ZaI-IOJH"
      },
      "execution_count": null,
      "outputs": []
    },
    {
      "cell_type": "markdown",
      "source": [
        "#### 解答と解説"
      ],
      "metadata": {
        "id": "N1IVpEriINZz"
      }
    },
    {
      "cell_type": "code",
      "source": [
        "for i in range(2, 51, 2):\n",
        "    print(i)"
      ],
      "metadata": {
        "id": "yJvBIvu0E8z0"
      },
      "execution_count": null,
      "outputs": []
    },
    {
      "cell_type": "markdown",
      "source": [
        "range(2, 51, 2)は2から50まで2ずつ増加する数字を生成します。これにより、偶数だけを表示します。"
      ],
      "metadata": {
        "id": "TcQ0JkbEFqF2"
      }
    },
    {
      "cell_type": "markdown",
      "source": [
        "#### 【補足】 range()関数の第3引数"
      ],
      "metadata": {
        "id": "BejBDXSeF2ju"
      }
    },
    {
      "cell_type": "markdown",
      "source": [
        "関数の中に入っている数字のことを、引数（ひきすう, argument）と言います。\n",
        "\n",
        "range()関数は3つの引数を持つことができ、それらの数字は前から第１引数、第２引数、第3引数と呼ばれます。\n",
        "\n",
        "1. 開始値（start）: 生成される数列の最初の値（省略可能、デフォルトは0）\n",
        "2. 終了値（stop）: 生成される数列の終わりの値（ただし、この値は含まれません）\n",
        "3. ステップ（step）: 各数値間の差（省略可能、デフォルトは1）\n",
        "\n",
        "第３引数は入力しなければ１を入力しているのと同じですが、数え方に特殊な規則性を持たせたい場合にはここにその規則を示す値を入力します。\n",
        "\n",
        "例えば偶数にしたければ２ずつ増加する必要があるので、2を入力します。引数には変数を使うこともできます。\n",
        "\n",
        "例）\n",
        "\n",
        "```\n",
        "step = 2 * 2  # 4 になる\n",
        "for i in range(0, 20, step):\n",
        "    print(i)\n",
        "```\n",
        "\n"
      ],
      "metadata": {
        "id": "PnvlBms7GJal"
      }
    },
    {
      "cell_type": "markdown",
      "source": [
        "### 【問題3-5】 ユーザーに2つの数字を入力させ、その合計を表示するプログラムを書いてください。"
      ],
      "metadata": {
        "id": "wFL_hhHyH4_o"
      }
    },
    {
      "cell_type": "code",
      "source": [],
      "metadata": {
        "id": "2f2AzwxYIBxz"
      },
      "execution_count": null,
      "outputs": []
    },
    {
      "cell_type": "markdown",
      "source": [
        "#### 解答と解説"
      ],
      "metadata": {
        "id": "9yGbVc6dICOz"
      }
    },
    {
      "cell_type": "code",
      "source": [
        "num1 = int(input(\"最初の数字を入力してください: \"))\n",
        "num2 = int(input(\"次の数字を入力してください: \"))\n",
        "print(\"合計は \" + str(num1 + num2) + \" です。\")"
      ],
      "metadata": {
        "id": "CeXu-eSyF15g"
      },
      "execution_count": null,
      "outputs": []
    },
    {
      "cell_type": "markdown",
      "source": [
        "input()で2つの数字を入力させ、int()で整数に変換します。それらを足し合わせ、str()で文字列に変換して表示します。"
      ],
      "metadata": {
        "id": "UWGqex91H5Ii"
      }
    },
    {
      "cell_type": "markdown",
      "source": [
        "### 【問題3-6】 「私の名前は何ですか？」というメッセージを5回表示するプログラムを書いてください。"
      ],
      "metadata": {
        "id": "ihRikrUaIXPV"
      }
    },
    {
      "cell_type": "code",
      "source": [],
      "metadata": {
        "id": "FB9Ugl0dIT1u"
      },
      "execution_count": null,
      "outputs": []
    },
    {
      "cell_type": "markdown",
      "source": [
        "#### 解答と解説"
      ],
      "metadata": {
        "id": "pjF4JWVrIcMo"
      }
    },
    {
      "cell_type": "code",
      "source": [
        "for i in range(5):\n",
        "    print(\"私の名前は何ですか？\")"
      ],
      "metadata": {
        "id": "c1j-mJsrIdOh"
      },
      "execution_count": null,
      "outputs": []
    },
    {
      "cell_type": "markdown",
      "source": [
        "range(5)で0から4までの数字を生成し、forループを使って5回メッセージを表示します。"
      ],
      "metadata": {
        "id": "rpnRZpY2Ifjx"
      }
    },
    {
      "cell_type": "markdown",
      "source": [
        "### 【問題3-7】 ユーザーに名前と年齢を入力させ、それらを組み合わせて\"名前は[名前]で、年齢は[年齢]歳です。\"と表示するプログラムを書いてください。"
      ],
      "metadata": {
        "id": "iTlpQDwgIiHO"
      }
    },
    {
      "cell_type": "code",
      "source": [],
      "metadata": {
        "id": "ywnaQNUTIhP9"
      },
      "execution_count": null,
      "outputs": []
    },
    {
      "cell_type": "markdown",
      "source": [
        "#### 解答と解説"
      ],
      "metadata": {
        "id": "FS_5b-YhJQsf"
      }
    },
    {
      "cell_type": "code",
      "source": [
        "name = input(\"あなたの名前は何ですか？ \")\n",
        "age = input(\"あなたの年齢は何歳ですか？ \")\n",
        "print(\"名前は\" + name + \"で、年齢は\" + age + \"歳です。\")"
      ],
      "metadata": {
        "id": "PngaCHmqJR_g"
      },
      "execution_count": null,
      "outputs": []
    },
    {
      "cell_type": "markdown",
      "source": [
        "input()で名前と年齢を入力させ、それらをprint()で連結して表示します。"
      ],
      "metadata": {
        "id": "2bEjJ_TOJUcc"
      }
    },
    {
      "cell_type": "markdown",
      "source": [
        "### 【問題3-8】 1から50までの奇数を表示するプログラムを書いてください。"
      ],
      "metadata": {
        "id": "MAt04hlGJ2xd"
      }
    },
    {
      "cell_type": "code",
      "source": [],
      "metadata": {
        "id": "ZsQEKmoGJ-DN"
      },
      "execution_count": null,
      "outputs": []
    },
    {
      "cell_type": "markdown",
      "source": [
        "#### 解答と解説"
      ],
      "metadata": {
        "id": "Zzn9_X95J-TL"
      }
    },
    {
      "cell_type": "code",
      "source": [
        "for i in range(1, 51, 2):\n",
        "    print(i)"
      ],
      "metadata": {
        "id": "BRQspGueJWNs"
      },
      "execution_count": null,
      "outputs": []
    },
    {
      "cell_type": "markdown",
      "source": [
        "range(1, 51, 2)は1から50まで2ずつ増加する数字を生成します。これにより、奇数だけを表示します。\n",
        "\n",
        "問題3-4とは第1引数が違うことに注意してください。"
      ],
      "metadata": {
        "id": "azdePSZ_KBza"
      }
    },
    {
      "cell_type": "markdown",
      "source": [
        "### 【問題3-9】 ユーザーに英語の文章を入力させ、その文章を大文字に変換して表示するプログラムを書いてください。"
      ],
      "metadata": {
        "id": "1CTi0DhsKOQJ"
      }
    },
    {
      "cell_type": "code",
      "source": [],
      "metadata": {
        "id": "qfjB9QMTKCPr"
      },
      "execution_count": null,
      "outputs": []
    },
    {
      "cell_type": "markdown",
      "source": [
        "#### 解答と解説"
      ],
      "metadata": {
        "id": "RH7L43tZKTku"
      }
    },
    {
      "cell_type": "code",
      "source": [
        "sentence = input(\"文章を入力してください: \")\n",
        "print(sentence.upper())"
      ],
      "metadata": {
        "id": "b71UTdOYKVOT"
      },
      "execution_count": null,
      "outputs": []
    },
    {
      "cell_type": "markdown",
      "source": [
        "input()で文章を入力させ、upper()メソッドで大文字に変換して表示します。"
      ],
      "metadata": {
        "id": "hhY-fwHWKWK6"
      }
    },
    {
      "cell_type": "markdown",
      "source": [
        "#### 【補足】 大文字と小文字の変換"
      ],
      "metadata": {
        "id": "GBmCeCCRKYvg"
      }
    },
    {
      "cell_type": "markdown",
      "source": [
        "Pythonでは、アルファベット文字列の大文字・小文字を変換するための便利なメソッドがいくつか用意されています。これらのメソッドを使用することで、文字列のフォーマットを簡単に操作できます。\n",
        "\n",
        "実例をもとに試してみましょう。\n",
        "まずはtextという変数に格納した以下の文字列を読み込ませ、変換前の文字列を出力します。"
      ],
      "metadata": {
        "id": "Rr5qVBXqKg_r"
      }
    },
    {
      "cell_type": "code",
      "source": [
        "text = \"python Programming is FUN!\"\n",
        "print(\"Original:\", text)"
      ],
      "metadata": {
        "colab": {
          "base_uri": "https://localhost:8080/"
        },
        "id": "dVnSOqJYPQwo",
        "outputId": "774ee472-a9f0-415c-cef1-53528ddde27d"
      },
      "execution_count": 8,
      "outputs": [
        {
          "output_type": "stream",
          "name": "stdout",
          "text": [
            "Original: python Programming is FUN!\n"
          ]
        }
      ]
    },
    {
      "cell_type": "markdown",
      "source": [
        "- upper(): すべての文字を大文字に変換"
      ],
      "metadata": {
        "id": "DyehBY53O4ep"
      }
    },
    {
      "cell_type": "code",
      "source": [
        "print(\"Upper:\", text.upper())"
      ],
      "metadata": {
        "id": "I4Y-6mcGPvcI"
      },
      "execution_count": null,
      "outputs": []
    },
    {
      "cell_type": "markdown",
      "source": [
        "- lower(): すべての文字を小文字に変換"
      ],
      "metadata": {
        "id": "03Q6V-DhPEnJ"
      }
    },
    {
      "cell_type": "code",
      "source": [
        "print(\"Lower:\", text.lower())"
      ],
      "metadata": {
        "id": "ui-47htwPLmZ"
      },
      "execution_count": null,
      "outputs": []
    },
    {
      "cell_type": "markdown",
      "source": [
        "- capitalize(): 最初の文字を大文字にし、他の文字を小文字に変換"
      ],
      "metadata": {
        "id": "G0pHJ93MPGOQ"
      }
    },
    {
      "cell_type": "code",
      "source": [
        "print(\"Capitalize:\", text.capitalize())"
      ],
      "metadata": {
        "id": "poiuQWzSPIDJ"
      },
      "execution_count": null,
      "outputs": []
    },
    {
      "cell_type": "markdown",
      "source": [
        "- title(): 各単語の最初の文字を大文字にし、他の文字を小文字に変換"
      ],
      "metadata": {
        "id": "c4JQjeSvPIXw"
      }
    },
    {
      "cell_type": "code",
      "source": [
        "print(\"Title:\", text.title())"
      ],
      "metadata": {
        "id": "-8GApYrkPKCE"
      },
      "execution_count": null,
      "outputs": []
    },
    {
      "cell_type": "markdown",
      "source": [
        "- swapcase(): 大文字と小文字を入れ替える"
      ],
      "metadata": {
        "id": "cOImIqNePKPh"
      }
    },
    {
      "cell_type": "code",
      "source": [
        "print(\"Swapcase:\", text.swapcase())"
      ],
      "metadata": {
        "id": "REGuIePAPK8f"
      },
      "execution_count": null,
      "outputs": []
    },
    {
      "cell_type": "markdown",
      "source": [
        "メソッドというのは、特定のオブジェクトに関連づけられた関数のことです。大文字と小文字の変換に使ったこれらのメソッドは、すべて「文字列オブジェクト」に関連づけられています。\n",
        "\n",
        "Pythonでは、文字列リテラル（例えば、\"hello\" や 'world'）を使うことで、文字列オブジェクトを作成できます。これらに特定の操作を加えたい時には、それらの文字列を格納した変数名や文字列の後に\".メソッド名()\"をつけます。"
      ],
      "metadata": {
        "id": "iZLCJgiqP8Da"
      }
    },
    {
      "cell_type": "markdown",
      "source": [
        "### 【問題3-10】 1から10までの数字の合計を計算して表示するプログラムを書いてください。"
      ],
      "metadata": {
        "id": "ROxmIR1nSPMJ"
      }
    },
    {
      "cell_type": "code",
      "source": [],
      "metadata": {
        "id": "YcsC3OUXSLAk"
      },
      "execution_count": null,
      "outputs": []
    },
    {
      "cell_type": "markdown",
      "source": [
        "#### 解答と解説"
      ],
      "metadata": {
        "id": "HjfM2PxcSWYx"
      }
    },
    {
      "cell_type": "code",
      "source": [
        "total = 0\n",
        "for i in range(1, 11):\n",
        "    total += i\n",
        "print(\"合計は \" + str(total) + \" です。\")"
      ],
      "metadata": {
        "id": "165ngVePSZBs"
      },
      "execution_count": null,
      "outputs": []
    },
    {
      "cell_type": "markdown",
      "source": [
        "total変数に1から10までの数字を加算し、最終的な合計をprint()で表示します。\n",
        "\n",
        "total変数を定義する時に何かの値を格納しなければならないので、今回は初期値として0を代入してあります。\n",
        "\n",
        "計算をするとき、total = total + iをしたいところですが、解答ではtotla += iとなっていますね。\n",
        "\n",
        "これは数式を簡単に書くための方法で、実際にはtotal = total + iと同じ計算がなされています。"
      ],
      "metadata": {
        "id": "0h9FDakZSbRM"
      }
    }
  ]
}