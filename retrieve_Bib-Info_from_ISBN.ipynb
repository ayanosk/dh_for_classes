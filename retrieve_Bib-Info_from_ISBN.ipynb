{
 "cells": [
  {
   "cell_type": "markdown",
   "metadata": {
    "id": "vF5InfAitL92"
   },
   "source": [
    "# このPythonプログラムで何を実現するのか\n",
    "- サンプル書誌情報一覧を作成する\n",
    "- 和書の書誌情報はCiNii Booksから、洋書の書誌情報はGoogle Booksから取得する\n",
    "- 国際標準図書番号ISBN(International Standard Book Number)を使って、書籍の書誌情報データにアクセスし、必要な情報のみを抽出する\n",
    "- CiNiiおよびGoogle Booksは、APIという機能を提供しており、このAPIにISBNのデータを渡すと、書誌情報をコンピュータプログラミングで処理しやすい形式のデータとして出力してくれる\n",
    "\n",
    "# この演習で何を学べるのか\n",
    "- 標準（※誰でもいつでもどこでも同じように使えるという意味）的に作られたデータの利点\n",
    "- 標準データとしてよく用いられるXMLとJSONデータの基本構造\n",
    "- Webスクレイピング（Webから機械的に情報を取得する作業）の基本\n",
    "- Pythonの基礎（基本的なデータ型（辞書・リスト・JSON）、関数の定義、条件分岐、ファイルの読み書き、コメントの挿入など）\n",
    "\n",
    "\n",
    "# 下準備\n",
    "- 左上のファイルから、ファイルのコピーを保存する（あるいはノートブック（「20231220デジタル文献情報学研究法バーコード演習.ipynb」）をアップロードする）（注参照）\n",
    "- Googleドライブ上のファイルにアクセスできるようにドライブをマウントする\n",
    "- ISBNを格納するCSVファイルを、バーコードリーダーを使って別途作成する\n",
    "- ↑本のバーコードを読み込むとISBNが取得できるので、その機能を使う\n",
    "\n",
    "- 注：新潟大学のアカウントでは、セキュリティの問題でノートブックを開けないように設定されているようです。この実習では、個人のGoogleアカウントを使用するようにしてください。アカウントの切り替えだけでは開けないため、一度個人のGoogleアカウントでColaboratoryにアクセスし、ノートブックをアップロードします。"
   ]
  },
  {
   "cell_type": "markdown",
   "metadata": {
    "id": "PZNgiNhPEPvK"
   },
   "source": [
    "### Googleドライブ上のファイルにアクセスできるようにドライブをマウントする\n",
    "以下のスクリプトを実行し、\"Mounted at /content/drive\"と表示されれば完了"
   ]
  },
  {
   "cell_type": "code",
   "execution_count": null,
   "metadata": {
    "colab": {
     "base_uri": "https://localhost:8080/"
    },
    "id": "7mTHVHDHEDcl",
    "outputId": "7e1cd1a2-9a44-443e-a191-fbbdf3d43873"
   },
   "outputs": [
    {
     "name": "stdout",
     "output_type": "stream",
     "text": [
      "Mounted at /content/drive\n"
     ]
    }
   ],
   "source": [
    "from google.colab import drive\n",
    "drive.mount('/content/drive')"
   ]
  },
  {
   "cell_type": "markdown",
   "metadata": {
    "id": "wYf264mDFx0S"
   },
   "source": [
    "### 【補足】マウントとは"
   ]
  },
  {
   "cell_type": "markdown",
   "metadata": {
    "id": "UUOUnPVFFy2p"
   },
   "source": [
    "コンピュータのストレージデバイスやファイルシステムを、システムのディレクトリ構造に組み込むことを指します。\n",
    "ここでのマウントを例にもう少しわかりやすく説明すると、以下のようになります。\n",
    "1. Google Colabで共有しているこのPythonファイル（.ipynb）は、誰でも見ることができるし、誰でも動かすことができます。ただし、ここに書かれたコードを実行するためには、ファイル（isbn.csv）を読み込む必要があります。なぜなら、共有されているこのPythonファイルにisbn.csvというファイルは含まれていないからです。\n",
    "2. isbn.csvというファイルを読み込むためには、自身のGoogleドライブのデータとこのPythonコードを接続しなければなりません。PythonのコードだけでGoogleドライブにアクセスし、操作できるようにするための作業が「マウント」です。\n",
    "3. Googleドライブをマウントしたら、ここに書かれたコードを使ってドライブ内のファイルを開いたり、編集したり、保存したりできるようになります。\n"
   ]
  },
  {
   "cell_type": "markdown",
   "metadata": {
    "id": "aNZs8xjjKb8b"
   },
   "source": [
    "### マウントできたら、isbn.csvをアップロードする\n",
    "左に表示されているフォルダアイコンからdrive→MyDrive→Colab Notebooksにアクセスし、右の三点を押して作成したファイルをアップロードする"
   ]
  },
  {
   "cell_type": "code",
   "execution_count": null,
   "metadata": {
    "id": "UVAPSfTlnAkb"
   },
   "outputs": [],
   "source": [
    "# 必要なモジュール・ライブラリのインポート（読み込み）\n",
    "import requests\n",
    "import bs4\n",
    "import os\n",
    "import time\n",
    "import pandas\n",
    "import json\n",
    "import csv"
   ]
  },
  {
   "cell_type": "markdown",
   "metadata": {
    "id": "aYSN3Z6WuXRQ"
   },
   "source": [
    "### 【補足】モジュール・ライブラリとは"
   ]
  },
  {
   "cell_type": "markdown",
   "metadata": {
    "id": "SPtpXo6K5fOj"
   },
   "source": [
    "Pythonの「モジュール」とは、関連する関数、クラス、変数などをまとめたファイルのことです。モジュールはPythonのコードを再利用可能な部品として整理するために使用されます。これにより、コードをより管理しやすく、読みやすく、再利用しやすくなります。"
   ]
  },
  {
   "cell_type": "markdown",
   "metadata": {
    "id": "H_EjJkTh5hyQ"
   },
   "source": [
    "1. requests\n",
    "- 用途: ウェブページやAPIからデータを取得するために使用されるHTTPライブラリです。\n",
    "- 特徴: GET、POSTなどのHTTPリクエストを簡単に送信でき、レスポンスの処理も容易に行えます。\n",
    "2. bs4 (Beautiful Soup)\n",
    "- 用途: HTMLやXMLファイルからデータを抽出するためのライブラリです。\n",
    "- 特徴: タグに基づいてウェブページの解析が行え、特定の要素や属性を簡単に抽出できます。\n",
    "3. os\n",
    "- 用途: オペレーティングシステムの機能とのやり取りを行うための標準ライブラリです。\n",
    "- 特徴: ファイルやディレクトリの操作、パスの取得、環境変数の操作などが可能です。\n",
    "4. time\n",
    "- 用途: 日付や時刻に関連する操作を行うための標準ライブラリです。\n",
    "- 特徴: 現在の時刻の取得、プログラムの実行を一時停止するためのスリープ機能、タイムスタンプの取得などができます。\n",
    "5. pandas\n",
    "- 用途: データ分析やデータ操作に特化した強力なライブラリです。\n",
    "- 特徴: データフレームとシリーズというデータ構造を用いて、データの読み込み、加工、集計などが行えます。\n",
    "6. json\n",
    "- 用途: JSONデータの解析や生成を行うための標準ライブラリです。\n",
    "- 特徴: PythonオブジェクトとJSONデータの相互変換（シリアライズ、デシリアライズ）が可能です。\n",
    "7. csv\n",
    "- 用途: CSVファイルの読み書きを行うための標準ライブラリです。\n",
    "- 特徴: CSVデータの読み込みや書き出しを簡単に行え、データの処理や解析に利用できます。"
   ]
  },
  {
   "cell_type": "markdown",
   "metadata": {
    "id": "blc-V58AGu2m"
   },
   "source": [
    "# 後の処理で必要になる関数を先に定義しておく"
   ]
  },
  {
   "cell_type": "code",
   "execution_count": null,
   "metadata": {
    "id": "rP83AzBGnG5t"
   },
   "outputs": [],
   "source": [
    "def make_dict(author, title, publisher, year, isbn):\n",
    "  # make_dictは任意で作成できる関数の名前。author以下は、この関数内でのみ有効な「ローカル変数」として機能する\n",
    "\n",
    "    d = {} # dという名前の空の辞書を用意しておく（辞書はkeyとvalueからなる要素の集合）\n",
    "    d['著者'] = author # dという辞書に、key='著者' value='author'という値を入れている\n",
    "    d['題名'] = title\n",
    "    d['出版社'] = publisher\n",
    "    d['出版年'] = year\n",
    "    d['ISBN'] = isbn\n",
    "\n",
    "    return d\n",
    "    # この関数によって、どのような値が返されるかはこのreturnによって決まる\n",
    "    # d = {'著者': author, '題名': title, '出版社': publisher, '出版年': year, 'ISBN': isbn} となるはず\n",
    "\n",
    "# 関数を定義しただけでは何も起こらない。実際に動かすには、関数を呼び出し、引数（ひきすう、argument）を指定することが必要"
   ]
  },
  {
   "cell_type": "markdown",
   "metadata": {
    "id": "GD4-o8gcIE02"
   },
   "source": [
    "### 【補足】変数とは"
   ]
  },
  {
   "cell_type": "markdown",
   "metadata": {
    "id": "vTuuwkmgIKIP"
   },
   "source": [
    "変数とは、プログラミングにおいてデータを一時的に保存するための「容器」のようなものです。変数には名前があり、この名前を使って保存したデータにアクセスしたり、データを変更したりできます。\n",
    "\n",
    "変数を使うことで、プログラム内で数値やテキスト、その他のデータを簡単に扱うことができます。例えば、ある数値を何度も使いたい場合、その数値を変数に保存しておけば、その後のプログラムの中でその変数名を使ってその数値を参照できます。"
   ]
  },
  {
   "cell_type": "markdown",
   "metadata": {
    "id": "_XU7XngmLs75"
   },
   "source": [
    "#### ローカル変数とグローバル変数"
   ]
  },
  {
   "cell_type": "markdown",
   "metadata": {
    "id": "gRtAfSQuLw0s"
   },
   "source": [
    "ローカル変数は、関数やメソッド内で定義され、その特定の関数やメソッド内でのみアクセス可能な変数です。\n",
    "- ローカル変数は、その関数やメソッドが呼び出されたときに作成され、関数の実行が終了すると消滅します。\n",
    "- 同じ名前のローカル変数が別の関数内で定義されていても、それらは互いに影響しません。"
   ]
  },
  {
   "cell_type": "markdown",
   "metadata": {
    "id": "wSQmM1WcL51u"
   },
   "source": [
    "グローバル変数は、プログラム全体でアクセス可能な変数で、通常は関数の外部で定義されます。\n",
    "- グローバル変数はプログラムのどこからでもアクセスできます。\n",
    "- グローバル変数はプログラムが終了するまで存在し続けます。\n",
    "- グローバル変数を多用すると、プログラムが複雑になり、バグの原因になることがあります。"
   ]
  },
  {
   "cell_type": "markdown",
   "metadata": {
    "id": "PyIh9aIbvhWt"
   },
   "source": [
    "### 【補足】関数とは"
   ]
  },
  {
   "cell_type": "markdown",
   "metadata": {
    "id": "302bC6rg5UaT"
   },
   "source": [
    "関数とは、ある特定の仕事をするためのコードのかたまりで、必要に応じて何度も再利用できるように設計されています。プログラミングにおける関数は、特定の「入力」（パラメータや引数と呼ばれます）を受け取り、「出力」（結果）を返すことができます。\n",
    "cf. モジュール、ライブラリ"
   ]
  },
  {
   "cell_type": "markdown",
   "metadata": {
    "id": "QnNBiQ3_IPE8"
   },
   "source": [
    "例えば、Excelで合計を求めるときには、=SUM(A1:A8)のように記述することで簡単に答えを導き出すことができます。このSUMは「SUM関数」のこと。つまり、いくつかの値（Excelではセルの範囲）を引数として受け取ると、合計の値を返す関数です。"
   ]
  },
  {
   "cell_type": "code",
   "execution_count": null,
   "metadata": {
    "id": "3lXjRs2LJuTt"
   },
   "outputs": [],
   "source": [
    "# SUM関数の中身をPython風に記述するとこうなる\n",
    "def my_sum(iterable, start=0):\n",
    "    total = start\n",
    "    for element in iterable:\n",
    "        total += element\n",
    "    return total\n",
    "\n",
    "# 例として、リスト [1, 2, 3, 4, 5] の合計を計算する\n",
    "result = my_sum([1, 2, 3, 4, 5])\n",
    "print(result)  # 出力は 15"
   ]
  },
  {
   "cell_type": "markdown",
   "metadata": {
    "id": "5X33ZkZ4MJea"
   },
   "source": [
    "### 【補足】引数とは"
   ]
  },
  {
   "cell_type": "markdown",
   "metadata": {
    "id": "UQwksdoxMOSo"
   },
   "source": [
    "引数（パラメータとも呼ばれる）は、プログラミングにおいて関数やメソッドに渡される値やデータのことです。引数を使うことで、関数に外部から情報を提供し、その関数の動作をカスタマイズしたり、特定のタスクを実行させたりすることができます。"
   ]
  },
  {
   "cell_type": "markdown",
   "metadata": {
    "id": "V2u-BFrlMjFM"
   },
   "source": [
    "引数の役割は以下のようなものです。\n",
    "- データの受け渡し: 引数を通じて、関数に必要なデータを渡すことができます。\n",
    "- 柔軟性の提供: 同じ関数を異なる引数で複数回呼び出すことで、異なる結果を得ることができます。"
   ]
  },
  {
   "cell_type": "markdown",
   "metadata": {
    "id": "c-oDjWeY4Wiu"
   },
   "source": [
    "### 【補足】リスト型と辞書型"
   ]
  },
  {
   "cell_type": "markdown",
   "metadata": {
    "id": "SOfazxG65ak0"
   },
   "source": [
    "1. リスト（[ ]で囲まれた中にカンマでデータが並列された）型のデータ\n",
    "- 以下のようなリストの例があったとする。バナナという値だけを取りたい場合には、\n",
    "  - sample_list = [\"リンゴ\", \"みかん\", \"バナナ\"]\n",
    "  - sample_list[2] というように、最初から2番目（インデックスは0から始まる）の値を指定すると、バナナが得られる\n",
    "- 同様に、リンゴを得るにはどうしたらいいか？\n",
    "2.  辞書（{ }で囲まれた中に、: の前後に見出し語（キー）と意味（値もしくはバリュー）がセットで格納された）型のデータ\n",
    "- 以下のような辞書の例があったとする。年齢のデータが欲しいとすると、\n",
    "  - sample_dict = {\"学籍番号\": \"123456\", \"氏名\": \"千葉太郎\", \"年齢\": \"21\", \"得意科目\": [\"統計\", \"文学\", \"英語\"]}\n",
    "  - sample_dict[\"年齢\"] というように、変数名の後に[\"キーの名前\"] を続けて入力すれば、そのキーに対応する値を得られる"
   ]
  },
  {
   "cell_type": "code",
   "execution_count": null,
   "metadata": {
    "colab": {
     "base_uri": "https://localhost:8080/",
     "height": 35
    },
    "id": "WQj_dsNM_IhI",
    "outputId": "8e76fc25-27c9-4c01-e68a-de1bf96f667a"
   },
   "outputs": [
    {
     "data": {
      "application/vnd.google.colaboratory.intrinsic+json": {
       "type": "string"
      },
      "text/plain": [
       "'バナナ'"
      ]
     },
     "execution_count": 3,
     "metadata": {},
     "output_type": "execute_result"
    }
   ],
   "source": [
    "sample_list = [\"リンゴ\", \"みかん\", \"バナナ\"]\n",
    "sample_list[len(sample_list)-1]"
   ]
  },
  {
   "cell_type": "code",
   "execution_count": null,
   "metadata": {
    "colab": {
     "base_uri": "https://localhost:8080/",
     "height": 35
    },
    "id": "QZc7O9OcAT7F",
    "outputId": "e58545fc-aeef-4181-a189-473b390b6e82"
   },
   "outputs": [
    {
     "data": {
      "application/vnd.google.colaboratory.intrinsic+json": {
       "type": "string"
      },
      "text/plain": [
       "'統計'"
      ]
     },
     "execution_count": 6,
     "metadata": {},
     "output_type": "execute_result"
    }
   ],
   "source": [
    "sample_dict = {\"学籍番号\": \"123456\", \"氏名\": \"千葉太郎\", \"年齢\": \"21\", \"得意科目\": [\"統計\", \"文学\", \"英語\"]}\n",
    "sample_dict[\"得意科目\"][0]"
   ]
  },
  {
   "cell_type": "markdown",
   "metadata": {
    "id": "NOHLlyW7zBeS"
   },
   "source": [
    "# CiNiiのAPIから返ってくるXMLデータの例を確認してみよう"
   ]
  },
  {
   "cell_type": "markdown",
   "metadata": {
    "id": "Jd9Gfxd4y16q"
   },
   "source": [
    "### 【補足】APIとは"
   ]
  },
  {
   "cell_type": "markdown",
   "metadata": {
    "id": "fu2FWfQB5q81"
   },
   "source": [
    "API（Application Programming Interface）とは「アプリケーションプログラミングインターフェース」の略で、ソフトウェアやアプリケーションが他のソフトウェアやサービスと情報をやり取りするための一連の規則や仕様です。簡単に言うと、APIは異なるソフトウェア間で「会話」をするための方法を提供します。\n",
    "\n",
    "Webスクレイピング（ウェブページから情報を自動的に収集し、抽出するプロセス）の際には、はじめに相手方のサイトがAPIを提供しているか確認します。APIが提供されていれば、API経由で情報を取得するようにしましょう。"
   ]
  },
  {
   "cell_type": "markdown",
   "metadata": {
    "id": "D3jP8V7dN6dL"
   },
   "source": [
    "APIを使う利点はたくさんあります。\n",
    "1. 効率性: APIを使用すると、既に他の開発者や企業によって構築された機能にアクセスできます。これにより、ゼロから機能を開発する手間と時間を節約できます。\n",
    "2. 標準化と一貫性: APIは一般的に標準化された方法でデータや機能を提供します。これにより、異なるシステム間での互換性と一貫性が保たれます。\n",
    "3. 安全性: APIは、データや機能へのアクセスを制御するためのセキュリティ層を提供します。これにより、直接データベースや内部システムにアクセスするよりも安全にデータを扱うことができます。\n",
    "4. メンテナンスとアップデートの容易さ: APIを通じてサービスを利用する場合、APIの提供者がバックエンドのメンテナンスやアップデートを行います。これにより、エンドユーザーは常に最新の機能やデータにアクセスできます。\n",
    "5. スケーラビリティ: APIは通常、大量のリクエストやデータを処理するように設計されています。これにより、アプリケーションのスケールアップが容易になります。\n",
    "6. コミュニティとサポート: 人気のあるAPIは大きな開発者コミュニティを持っていることが多く、ドキュメント、チュートリアル、フォーラムなどの豊富なリソースが提供されます。\n",
    "\n",
    "まとめると、APIを使用することで、開発プロセスが高速化し、より安全で、メンテナンスが容易になり、最終的にはより優れた製品やサービスを提供することができます。"
   ]
  },
  {
   "cell_type": "markdown",
   "metadata": {
    "id": "jw88e0LDPQQy"
   },
   "source": [
    "例えば、CiNii Booksの以下の書籍。\n",
    "ソースコードはこちら→\"view-source:https://ci.nii.ac.jp/ncid/BB23233235\"\n",
    "APIは下に載せた通り。\n",
    "どちらが情報を取りやすいでしょうか？"
   ]
  },
  {
   "cell_type": "markdown",
   "metadata": {
    "id": "GEIyTkL8DWCM"
   },
   "source": [
    "1.   \\<feed>というタグを最上位とする階層構造\n",
    "2.   \\<entry>というタグの下層に、必要そうな書誌情報がある\n",
    "3.   今回は、著者名・題名・出版社・出版年・ISBNのデータが欲しい\n",
    "4.   どのタグの情報を取ればいいだろう？\n",
    "\n",
    "```\n",
    "<feed xml:lang=\"ja\">\n",
    "  <title>CiNii Books OpenSearch - 978-4-534-05472-2</title>\n",
    "  <link href=\"https://ci.nii.ac.jp/books/search/?advanced=true&isbn=978-4-534-05472-2&count=20&sortorder=1\"/>\n",
    "  <link rel=\"self\" type=\"application/atom+xml\" href=\"https://ci.nii.ac.jp/books/opensearch/search?isbn=978-4-534-05472-2\"/>\n",
    "  <id>https://ci.nii.ac.jp/books/opensearch/search?isbn=978-4-534-05472-2\n",
    "  </id>\n",
    "  <updated>2022-09-20T22:17:31+09:00</updated>\n",
    "  <opensearch:totalResults>1</opensearch:totalResults>\n",
    "  <opensearch:startIndex>0</opensearch:startIndex>\n",
    "  <opensearch:itemsPerPage>1</opensearch:itemsPerPage>\n",
    "  <entry>\n",
    "    <title>Google流資料作成術</title>\n",
    "    <link href=\"https://ci.nii.ac.jp/ncid/BB23233235\"/>\n",
    "    <link rel=\"alternate\" type=\"application/rdf+xml\" href=\"https://ci.nii.ac.jp/ncid/BB23233235.rdf\"/>\n",
    "    <id>https://ci.nii.ac.jp/ncid/BB23233235</id>\n",
    "    <author>\n",
    "      <name>コール・ヌッスバウマー・ナフリック著 ; 村井瑞枝訳</name>\n",
    "    </author>\n",
    "    <dc:publisher>日本実業出版社</dc:publisher>\n",
    "    <prism:publicationDate>2017</prism:publicationDate>\n",
    "    <updated>2017</updated>\n",
    "    <dcterms:hasPart>urn:isbn:9784534054722</dcterms:hasPart>\n",
    "    <cinii:ownerCount>134</cinii:ownerCount>\n",
    "  </entry>\n",
    "</feed>\n",
    "```"
   ]
  },
  {
   "cell_type": "markdown",
   "metadata": {
    "id": "goKZKQqVzvNM"
   },
   "source": [
    "# CiNiiのAPIから必要な情報を取得するための関数を定義"
   ]
  },
  {
   "cell_type": "code",
   "execution_count": null,
   "metadata": {
    "id": "h_y_w_7unG2U"
   },
   "outputs": [],
   "source": [
    "def get_from_cinii(isbn, res_xml): # res_xmlという変数にはxmlデータが格納されている\n",
    "\n",
    "    author = res_xml.entry.author.text.strip()\n",
    "    # res_xmlの中の<entry>タグ、さらにその中の<author>タグにアクセス\n",
    "    # .textでそのタグの中のテキストを取得\n",
    "    # .strip()で文字列の前後にある余分な空白（スペースや改行など）を削除\n",
    "    title = res_xml.entry.title.text.strip()\n",
    "    publisher = res_xml.entry.select('publisher')[0].text.strip()\n",
    "    # res_xmlの中の<entry>タグにアクセス\n",
    "    # .select('publisher')で<entry>タグないの<publisher>タグを選択。取得されたデータはリスト型で返される\n",
    "    # [0]は、.selectで作成されたリストの０番目（一番最初の要素）を取得している。<publisher>タグが複数存在する場合があるため\n",
    "    year = res_xml.entry.select('publicationDate')[0].text.strip()\n",
    "    # book_id = res_xml.entry.id.text.strip()\n",
    "    # <entry><id>xxxx</id></entry>\n",
    "\n",
    "    d = make_dict(author, title, publisher, year, isbn)\n",
    "    # dという辞書を作成している。make_dictは、上で作成したmake_dictという関数を呼び出している\n",
    "    # この１行だけで、make_dictとして定義された処理が一気に行われる\n",
    "    # ここではreturn（辞書型）がdという変数に格納されているが、これはmake_dictで作成したdという辞書とは別のもの。\n",
    "    # 関数内で定義したローカル変数は関数の外に引き継げないので、ここで新たに変数名を定義する必要がある\n",
    "    d['情報源'] = 'cinii'\n",
    "    # make_dictの呼び出しによって作成したdという辞書に、新たにkey='情報源' value='cinii'を追加\n",
    "\n",
    "    return d\n",
    "    # d = {'著者': author, '題名': title, '出版社': publisher, '出版年': year, 'ISBN': isbn, '情報源': 'cinii'} となるはず\n",
    "    # 上の例だと、d = {'著者': 'コール・ヌッスバウマー・ナフリック著 ; 村井瑞枝訳', '題名': 'Google流資料作成術', '出版社': '日本実業出版社', '出版年': '2017', 'ISBN': 9784534054722, '情報源': 'cinii'} となるはず\n",
    "    # isbnは元々csvファイルで作成しているため、ここで新たに取得する必要はない\n"
   ]
  },
  {
   "cell_type": "markdown",
   "metadata": {
    "id": "nmuCr7MjHYlu"
   },
   "source": [
    "# 次に、Google BooksのAPIから返ってくるJSONデータの例を確認してみよう\n",
    "\n",
    "\n",
    "1.  今度は、XML形式ではないが、リストと辞書が混ざった階層構造になっている（JSON形式）\n",
    "2.  著者名・題名・出版社・出版年・ISBNのデータを取りたいが、どのキーにアクセスして値を取得したらいいか？\n",
    "  - その前に、上記sample_dictから応用問題。千葉太郎の得意科目のうち、文学という値を取るにはどうしたらいいか？\n",
    "\n",
    "\n",
    "\n",
    "```\n",
    "{\n",
    "  \"kind\": \"books#volumes\",\n",
    "  \"totalItems\": 1,\n",
    "  \"items\": [\n",
    "    {\n",
    "      \"kind\": \"books#volume\",\n",
    "      \"id\": \"4Y18AQAAQBAJ\",\n",
    "      \"etag\": \"2Y0fAiyrl8w\",\n",
    "      \"selfLink\": \"https://www.googleapis.com/books/v1/volumes/4Y18AQAAQBAJ\",\n",
    "      \"volumeInfo\": {\n",
    "        \"title\": \"Writing History in the Digital Age\",\n",
    "        \"authors\": [\n",
    "          \"Jack Dougherty\",\n",
    "          \"Kristen Nawrotzki\"\n",
    "        ],\n",
    "        \"publisher\": \"University of Michigan Press\",\n",
    "        \"publishedDate\": \"2013-10-28\",\n",
    "        \"description\": \"\\\"Writing History in the Digital Age began as a one-month experiment in October 2010, featuring chapter-length essays by a wide array of scholars with the goal of rethinking traditional practices of researching, writing, and publishing, and the broader implications of digital technology for the historical profession. The essays and discussion topics were posted on a WordPress platform with a special plug-in that allowed readers to add paragraph-level comments in the margins, transforming the work into socially networked texts. This first installment drew an enthusiastic audience, over 50 comments on the texts, and over 1,000 unique visitors to the site from across the globe, with many who stayed on the site for a significant period of time to read the work. To facilitate this new volume, Jack Dougherty and Kristen Nawrotzki designed a born-digital, open-access platform to capture reader comments on drafts and shape the book as it developed. Following a period of open peer review and discussion, the finished product now presents 20 essays from a wide array of notable scholars, each examining (and then breaking apart and reexamining) how digital and emergent technologies have changed the ways that historians think, teach, author, and publish\\\"--\",\n",
    "        \"industryIdentifiers\": [\n",
    "          {\n",
    "            \"type\": \"ISBN_13\",\n",
    "            \"identifier\": \"9780472052066\"\n",
    "          },\n",
    "          {\n",
    "            \"type\": \"ISBN_10\",\n",
    "            \"identifier\": \"0472052063\"\n",
    "          }\n",
    "        ],\n",
    "        \"readingModes\": {\n",
    "          \"text\": false,\n",
    "          \"image\": true\n",
    "        },\n",
    "        \"pageCount\": 283,\n",
    "        \"printType\": \"BOOK\",\n",
    "        \"categories\": [\n",
    "          \"History\"\n",
    "        ],\n",
    "        \"maturityRating\": \"NOT_MATURE\",\n",
    "        \"allowAnonLogging\": false,\n",
    "        \"contentVersion\": \"preview-1.0.0\",\n",
    "        \"panelizationSummary\": {\n",
    "          \"containsEpubBubbles\": false,\n",
    "          \"containsImageBubbles\": false\n",
    "        },\n",
    "        \"imageLinks\": {\n",
    "          \"smallThumbnail\": \"http://books.google.com/books/content?id=4Y18AQAAQBAJ&printsec=frontcover&img=1&zoom=5&edge=curl&source=gbs_api\",\n",
    "          \"thumbnail\": \"http://books.google.com/books/content?id=4Y18AQAAQBAJ&printsec=frontcover&img=1&zoom=1&edge=curl&source=gbs_api\"\n",
    "        },\n",
    "        \"language\": \"en\",\n",
    "        \"previewLink\": \"http://books.google.co.jp/books?id=4Y18AQAAQBAJ&pg=PR4&dq=978-0-472-05206-6&hl=&cd=1&source=gbs_api\",\n",
    "        \"infoLink\": \"http://books.google.co.jp/books?id=4Y18AQAAQBAJ&dq=978-0-472-05206-6&hl=&source=gbs_api\",\n",
    "        \"canonicalVolumeLink\": \"https://books.google.com/books/about/Writing_History_in_the_Digital_Age.html?hl=&id=4Y18AQAAQBAJ\"\n",
    "      },\n",
    "      \"saleInfo\": {\n",
    "        \"country\": \"JP\",\n",
    "        \"saleability\": \"NOT_FOR_SALE\",\n",
    "        \"isEbook\": false\n",
    "      },\n",
    "      \"accessInfo\": {\n",
    "        \"country\": \"JP\",\n",
    "        \"viewability\": \"PARTIAL\",\n",
    "        \"embeddable\": true,\n",
    "        \"publicDomain\": false,\n",
    "        \"textToSpeechPermission\": \"ALLOWED\",\n",
    "        \"epub\": {\n",
    "          \"isAvailable\": false\n",
    "        },\n",
    "        \"pdf\": {\n",
    "          \"isAvailable\": false\n",
    "        },\n",
    "        \"webReaderLink\": \"http://play.google.com/books/reader?id=4Y18AQAAQBAJ&hl=&printsec=frontcover&source=gbs_api\",\n",
    "        \"accessViewStatus\": \"SAMPLE\",\n",
    "        \"quoteSharingAllowed\": false\n",
    "      },\n",
    "      \"searchInfo\": {\n",
    "        \"textSnippet\": \"(Digital humanities) ISBN 978-0-472-07206-4 (hardback) — ISBN \\u003cb\\u003e978-0-472-05206-6\\u003c/b\\u003e (paper) — ISBN 978-0-472-02991-4(e-book) 1. History—Methodology. 2. Academic writing—Data processing&nbsp;...\"\n",
    "      }\n",
    "    }\n",
    "  ]\n",
    "}\n",
    "```\n",
    "\n",
    "# Google BooksのAPIから必要なデータを取得するための関数を定義\n"
   ]
  },
  {
   "cell_type": "code",
   "execution_count": null,
   "metadata": {
    "id": "r_jrrKs8nGnl"
   },
   "outputs": [],
   "source": [
    "def get_from_gbook(isbn, not_found_list):\n",
    "\n",
    "    gbook_url = 'https://www.googleapis.com/books/v1/volumes?q=isbn:'\n",
    "    # googlebooksでは、このuriの後ろにisbnを入れると書誌情報が出るようになっている（これがAPI）\n",
    "    res = requests.get(gbook_url + isbn)\n",
    "    # gbook_urlの後ろにisbnを足したurlにアクセスしてソースコードを取得し、requestsオブジェクトに格納している\n",
    "    time.sleep(1)\n",
    "    # 相手のサーバーに負荷をかけないように、1つのurlの作業が終わったら1秒処理を止める\n",
    "    res_text = res.text\n",
    "    # resに格納したソースコードからテキストを取り出している\n",
    "    res_json = json.loads(res_text)\n",
    "    # ソースコードはJSON形式なので、コンピュータにこれはJSON形式だと教えている\n",
    "    # res_jsonは辞書形式\n",
    "\n",
    "    if res_json['totalItems'] == 0:\n",
    "      # res_jsonという辞書の'totalItems'というkeyに対応するvalueが0になっていたら（＝そのisbnがgooglebooks上に見つからなかった時の処理）\n",
    "        not_found_list.append(isbn)\n",
    "        # 関数の引数として指定したnot_found_listにisbnを追加する\n",
    "        author = ''\n",
    "        # author以下の情報は何も追加しない\n",
    "        title = ''\n",
    "        publisher = ''\n",
    "        year = ''\n",
    "\n",
    "    else:\n",
    "      # そうでなければ（＝googlebooks上でisbnが見つかれば）以下の処理を行う\n",
    "        authors_list = res_json['items'][0]['volumeInfo']['authors']\n",
    "        # res_jsonの'items'というkeyに対応するvalueの0番目（最初の要素）の中の\n",
    "        # 'volumeInfo'というkeyに対応するvalue（辞書になっている）の\n",
    "        # 'authors'というkeyに対応するvalueをauthors_listに格納する\n",
    "        author = ', '.join(authors_list)\n",
    "        # authors_listに含まれる要素を特定の文字列（ここでは', '）で結合する\n",
    "        title = res_json['items'][0]['volumeInfo']['title']\n",
    "        try:\n",
    "            publisher = res_json['items'][0]['volumeInfo']['publisher']\n",
    "            # エラーが起きる可能性のあるコードをtryに入れる\n",
    "        except KeyError:\n",
    "            publisher = ''\n",
    "            # エラーが起きたら、exceptの処理をしてもらう\n",
    "\n",
    "        year = res_json['items'][0]['volumeInfo']['publishedDate']\n",
    "\n",
    "    d = make_dict(author, title, publisher, year, isbn)\n",
    "    d['情報源'] = 'Google Books'\n",
    "    # ciniiの時と同じ処理。こちらはgoogle booksからの情報なので情報源がGoogle Booksになっている\n",
    "\n",
    "    return d, not_found_list"
   ]
  },
  {
   "cell_type": "markdown",
   "metadata": {
    "id": "vkXc4D6X7oBf"
   },
   "source": [
    "# メインの処理開始"
   ]
  },
  {
   "cell_type": "markdown",
   "metadata": {
    "id": "kiOa4V7oA_9h"
   },
   "source": [
    "関数を定義し終わったので、具体的な書誌情報取得に移ります。"
   ]
  },
  {
   "cell_type": "markdown",
   "metadata": {
    "id": "6ge6GkJ-Dfdf"
   },
   "source": [
    "### csvファイルからisbnのリストを作成・整形する"
   ]
  },
  {
   "cell_type": "code",
   "execution_count": null,
   "metadata": {
    "id": "EowLfO-33K1o"
   },
   "outputs": [],
   "source": [
    "f = open('/content/drive/MyDrive/Colab Notebooks/isbn.csv', 'r', encoding='utf-8')\n",
    "# open関数を使ってisbn.csvというCSVファイルを読み込みモード（'r'）で開いている\n",
    "# encoding='utf-8'は、ファイルがUTF-8の文字コードでエンコードされていることを指定している\n",
    "isbn_list = pandas.read_csv(f, header=None).values.tolist()\n",
    "# pandasライブラリに含まれる.read_csv関数を使ってCSVファイルを読み込み、Pythonのリストに変換している\n",
    "# header=Noneは、CSVファイルにヘッダー行がないことを意味する\n",
    "isbn_list_new = []\n",
    "# これからフォーマットされたisbnを読み込む処理を始めるので、空のリストを用意する\n",
    "for l in isbn_list:\n",
    "  # for文は繰り返し処理。isbn_listの中の要素を前から1つずつlという変数に格納して以下の処理をする\n",
    "  isbn_list_new.append(str(l[0]).translate(str.maketrans({chr(0xFF01 + i): chr(0x21 + i) for i in range(94)})))\n",
    "  # isbn_listに含まれる要素は全角文字のことがあり得るので、これを半角文字に変換する処理\n",
    "  # lはリスト型なので、文字列を取り出すにはl[0]と指定する必要がある\n",
    "  # str.maketransは変換テーブルを作成しており、全角の記号や数字を半角に変換するためのマッピングを定義している\n",
    "  # .translateは、作成された変換テーブルに基づいて文字列の全角文字を半角に変換する\n",
    "\n",
    "\n",
    "# 全角を半角に変えるコードは以下を参照\n",
    "# https://qiita.com/YuukiMiyoshi/items/6ce77bf402a29a99f1bf\n",
    "\n",
    "f.close()\n",
    "# 最初に開いたファイルは必ず閉じる必要がある"
   ]
  },
  {
   "cell_type": "code",
   "execution_count": null,
   "metadata": {
    "colab": {
     "base_uri": "https://localhost:8080/"
    },
    "id": "ajAZJQbYNM9t",
    "outputId": "ee64a17a-3923-4e2f-88ea-f6a6511deec5"
   },
   "outputs": [
    {
     "data": {
      "text/plain": [
       "[[9784815810337],\n",
       " [9784560087077],\n",
       " [9784815807443],\n",
       " [9782130584223],\n",
       " [9784422211756],\n",
       " [9782130559092],\n",
       " [9784888882828]]"
      ]
     },
     "execution_count": 8,
     "metadata": {},
     "output_type": "execute_result"
    }
   ],
   "source": [
    "isbn_list"
   ]
  },
  {
   "cell_type": "code",
   "execution_count": null,
   "metadata": {
    "colab": {
     "base_uri": "https://localhost:8080/"
    },
    "id": "-UDzFEjxLOMf",
    "outputId": "b02f304f-e414-411a-c779-85c236a12646"
   },
   "outputs": [
    {
     "data": {
      "text/plain": [
       "str"
      ]
     },
     "execution_count": 19,
     "metadata": {},
     "output_type": "execute_result"
    }
   ],
   "source": [
    "type(isbn_list[0][0])"
   ]
  },
  {
   "cell_type": "code",
   "execution_count": null,
   "metadata": {
    "colab": {
     "base_uri": "https://localhost:8080/"
    },
    "id": "lZWDeNwbeutk",
    "outputId": "31c6fa49-734e-4815-bf60-a907d5b198ee"
   },
   "outputs": [
    {
     "data": {
      "text/plain": [
       "['9784815810337',\n",
       " '9784560087077',\n",
       " '9784815807443',\n",
       " '9782130584223',\n",
       " '9784422211756',\n",
       " '9782130559092',\n",
       " '9784888882828']"
      ]
     },
     "execution_count": 9,
     "metadata": {},
     "output_type": "execute_result"
    }
   ],
   "source": [
    "isbn_list_new\n",
    "# 作成されたisbn_list_newを出力してみよう"
   ]
  },
  {
   "cell_type": "code",
   "execution_count": null,
   "metadata": {
    "colab": {
     "base_uri": "https://localhost:8080/"
    },
    "id": "gAyOOIVzLeQI",
    "outputId": "80ae07e4-7188-4514-cf9a-dbc03c41a6f2"
   },
   "outputs": [
    {
     "data": {
      "text/plain": [
       "str"
      ]
     },
     "execution_count": 18,
     "metadata": {},
     "output_type": "execute_result"
    }
   ],
   "source": [
    "type(isbn_list_new[0])"
   ]
  },
  {
   "cell_type": "code",
   "execution_count": null,
   "metadata": {
    "id": "Z6bVvfOPMhSQ"
   },
   "outputs": [],
   "source": [
    "# Colab上の数字の表示\n",
    "text = \"９７８７６７６７６\" # 全角\n",
    "text2 = \"978767676\" # 半角（英字入力）\n",
    "text3 = \"９７８７６７６７６\" #半角(日本語入力)"
   ]
  },
  {
   "cell_type": "markdown",
   "metadata": {
    "id": "wHjahstiNBhW"
   },
   "source": [
    "### isbnのリストから書誌情報を取得する"
   ]
  },
  {
   "cell_type": "code",
   "execution_count": null,
   "metadata": {
    "colab": {
     "base_uri": "https://localhost:8080/"
    },
    "id": "2Ck6Iy30m4jQ",
    "outputId": "d78a6b42-6b8f-4c37-a242-4d53009662de"
   },
   "outputs": [
    {
     "name": "stdout",
     "output_type": "stream",
     "text": [
      "{'著者': 'ロレイン・ダストン, ピーター・ギャリソン [著] ; 瀬戸口明久 [ほか] 訳', '題名': '客観性', '出版社': '名古屋大学出版会', '出版年': '2021', 'ISBN': '9784815810337', '情報源': 'cinii'}\n",
      "{'著者': '目黒士門著', '題名': '現代フランス広文典', '出版社': '白水社', '出版年': '2015', 'ISBN': '9784560087077', '情報源': 'cinii'}\n",
      "{'著者': 'I.ウォーラーステイン著 ; 川北稔訳', '題名': '重商主義と「ヨーロッパ世界経済」の凝集 : 1600-1750', '出版社': '名古屋大学出版会', '出版年': '2013', 'ISBN': '9784815807443', '情報源': 'cinii'}\n",
      "{'著者': 'publié sous la direction de Lucien Bély', '題名': \"Dictionnaire de l'Ancien Régime : royaume de France XVIe-XVIIIe siècle\", '出版社': 'Quadrige : Presses universitaires de France', '出版年': '2010', 'ISBN': '9782130584223', '情報源': 'cinii'}\n",
      "{'著者': 'ジュヌヴィエーヴ・ブレスク著 ; 遠藤ゆかり訳', '題名': 'ルーヴル美術館の歴史', '出版社': '創元社', '出版年': '2004', 'ISBN': '9784422211756', '情報源': 'cinii'}\n",
      "{'著者': 'sous la direction de Michel Delon', '題名': 'Dictionnaire européen des lumières', '出版社': 'Quadrige/PUF', '出版年': '2007', 'ISBN': '9782130559092', '情報源': 'cinii'}\n",
      "{'著者': '安成英樹著', '題名': 'フランス絶対王政とエリート官僚', '出版社': '日本エディタースクール出版部', '出版年': '1998', 'ISBN': '9784888882828', '情報源': 'cinii'}\n",
      "見つからなかった本のISBN: []\n"
     ]
    }
   ],
   "source": [
    "# cf.https://note.nkmk.me/python-csv-reader-writer/\n",
    "\n",
    "ff = open('/content/drive/MyDrive/Colab Notebooks/20240110蔵書一覧表.tsv', 'w', encoding='utf-8')\n",
    "## Colab Notebooksのフォルダ内に'20231220蔵書一覧表.tsv'というタイトルのファイルを新規作成（'w'は書き込みモード）する\n",
    "writer = csv.DictWriter(ff, [\"著者\", \"題名\", \"出版社\", \"出版年\", \"ISBN\", \"情報源\"], delimiter=\"\\t\")\n",
    "# csv.DictWriterは辞書形式のデータをCSVファイルに書き込むためのオブジェクト。各カラムのヘッダーを指定し、タブ区切り（\\t）でデータを分割\n",
    "writer.writeheader()\n",
    "# writeheaderメソッドでヘッダー行をファイルに書き込む\n",
    "\n",
    "not_found_list = []\n",
    "# not_found_listという空のリストを作る（あるいは初期化）\n",
    "\n",
    "for x in isbn_list_new:\n",
    "    isbn = str(x) # isbnは文字型のはずだが、念のため文字型で指定しておく\n",
    "    cinii_api = 'https://ci.nii.ac.jp/books/opensearch/search?isbn='\n",
    "    res = requests.get(cinii_api + isbn)\n",
    "    # requestsモジュールでソースコードを取得\n",
    "    time.sleep(1)\n",
    "    res_xml = bs4.BeautifulSoup(res.text, 'xml')\n",
    "    # BeautifulSoupライブラリでxmlファイルを読み込めるようにする\n",
    "\n",
    "    # print(res.text) -> ok\n",
    "\n",
    "    if res_xml.totalResults.text != '0':\n",
    "      # totalResultsが'0'でない場合CiNii Booksから情報を取得し、そうでない場合はGoogle Books APIから情報を取得する\n",
    "      # totalResults=='0'はCiNii Books上にデータがないことを意味する\n",
    "        d = get_from_cinii(isbn, res_xml)\n",
    "        # get_from_ciniiという関数を呼び出し、実行する\n",
    "    else:\n",
    "        d, not_found_list = get_from_gbook(isbn, not_found_list)\n",
    "        # get_from_gbookという関数を呼び出し、実行する\n",
    "        # この関数はreturnでdとnot_found_listを返してくるので、左辺には2つの変数を指定しておく\n",
    "\n",
    "    print(d)\n",
    "    writer.writerow(d)\n",
    "    # 各書籍の情報が辞書dに格納され、writer.writerow(d)でファイルに書き込まれる\n",
    "\n",
    "ff.close()\n",
    "# ファイルを閉じる\n",
    "print(f'見つからなかった本のISBN: {not_found_list}')\n",
    "# 見つからなかった書籍のisbnを出力する"
   ]
  }
 ],
 "metadata": {
  "colab": {
   "collapsed_sections": [
    "aYSN3Z6WuXRQ",
    "PyIh9aIbvhWt",
    "c-oDjWeY4Wiu",
    "Jd9Gfxd4y16q"
   ],
   "provenance": []
  },
  "kernelspec": {
   "display_name": "Python 3",
   "language": "python",
   "name": "python3"
  },
  "language_info": {
   "codemirror_mode": {
    "name": "ipython",
    "version": 3
   },
   "file_extension": ".py",
   "mimetype": "text/x-python",
   "name": "python",
   "nbconvert_exporter": "python",
   "pygments_lexer": "ipython3",
   "version": "3.7.2"
  }
 },
 "nbformat": 4,
 "nbformat_minor": 1
}
